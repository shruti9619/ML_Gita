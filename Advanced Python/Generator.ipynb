{
 "cells": [
  {
   "cell_type": "markdown",
   "metadata": {},
   "source": [
    "# Generators"
   ]
  },
  {
   "cell_type": "markdown",
   "metadata": {},
   "source": [
    "Here's the source! Big Shoutout to https://python-course.eu/advanced-python/generators-and-iterators.php"
   ]
  },
  {
   "cell_type": "markdown",
   "metadata": {},
   "source": [
    "Generators are a special kind of function, which enable us to implement or generate iterators.\n",
    "\n",
    "What is an iterator? Iterators are objects that can be iterated over like we do in a for loop. We can also say that an iterator is an object, which returns data, one element at a time. That is, they do not do any work until we explicitly ask for their next item. They work on a principle, which is known in computer science as lazy evaluation. Lazy evaluation is an evaluation strategy which delays the evaluation of an expression until its value is really needed. Due to the laziness of Python iterators, they are a great way to deal with infinity, i.e. iterables which can iterate for ever. You can hardly find Python programs that are not teaming with iterators."
   ]
  },
  {
   "cell_type": "markdown",
   "metadata": {},
   "source": [
    "Mostly, iterators are implicitly used, like in the for-loop of Python. We demonstrate this in the following example. We are iterating over a list, but you shouldn't be mistaken: A list is not an iterator, but it can be used like an iterator:"
   ]
  },
  {
   "cell_type": "code",
   "execution_count": 8,
   "metadata": {},
   "outputs": [
    {
     "name": "stdout",
     "output_type": "stream",
     "text": [
      "location: Paris\n",
      "location: Berlin\n",
      "location: Hamburg\n",
      "location: Frankfurt\n",
      "location: London\n",
      "location: Vienna\n",
      "location: Amsterdam\n",
      "location: Den Haag\n"
     ]
    }
   ],
   "source": [
    "cities = [\"Paris\", \"Berlin\", \"Hamburg\", \n",
    "          \"Frankfurt\", \"London\", \"Vienna\", \n",
    "          \"Amsterdam\", \"Den Haag\"]\n",
    "for location in cities:\n",
    "    print(\"location: \" + location)"
   ]
  },
  {
   "cell_type": "markdown",
   "metadata": {},
   "source": [
    "What is really going on when a for loop is executed? The function 'iter' is applied to the object following the 'in' keyword, e.g. for i in o:. Two cases are possible: o is either iterable or not. If o is not iterable, an exception will be raised, saying that the type of the object is not iterable. On the other hand, if o is iterable the call iter(o) will return an iterator, let us call it iterator_obj The for loop uses this iterator to iterate over the object o by using the next method. The for loop stops when next(iterator_obj) is exhausted, which means it returns a StopIteration exception."
   ]
  },
  {
   "cell_type": "code",
   "execution_count": 9,
   "metadata": {},
   "outputs": [
    {
     "name": "stdout",
     "output_type": "stream",
     "text": [
      "Calling 'next' for the first time:  Python Beginner\n",
      "Calling 'next' for the second time:  Python Intermediate\n"
     ]
    }
   ],
   "source": [
    "expertises = [\"Python Beginner\", \n",
    "              \"Python Intermediate\", \n",
    "              \"Python Proficient\", \n",
    "              \"Python Advanced\"]\n",
    "expertises_iterator = iter(expertises)\n",
    "print(\"Calling 'next' for the first time: \", next(expertises_iterator))\n",
    "print(\"Calling 'next' for the second time: \", next(expertises_iterator))"
   ]
  },
  {
   "cell_type": "markdown",
   "metadata": {},
   "source": [
    "We could have called next two more times, but after this we will get a StopIteration Exception."
   ]
  },
  {
   "cell_type": "markdown",
   "metadata": {},
   "source": [
    "Creating an Iterator\n",
    "\n",
    "- One way to create iterators in Python is defining a class which implements the methods __init__ and __next__.\n",
    "- The other is to use generators."
   ]
  },
  {
   "cell_type": "markdown",
   "metadata": {},
   "source": [
    "A generator is a function which returns a generator object. This generator object can be seen like a function which produces a sequence of results instead of a single object. This sequence of values is produced by iterating over it, e.g. with a for loop. On the surface, generators in Python look like functions, but there is both a syntactic and a semantic difference. One distinguishing characteristic is the yield statements. The yield statement turns a functions into a generator. \n",
    "\n",
    "The values, on which can be iterated, are created by using the yield statement. The value created by the yield statement is the value following the yield keyword. The execution of the code stops when a yield statement is reached. The value behind the yield will be returned. The execution of the generator is interrupted now. As soon as \"next\" is called again on the generator object, the generator function will resume execution right after the yield statement in the code, where the last call is made. The execution will continue in the state in which the generator was left after the last yield. In other words, all the local variables still exist, because they are automatically saved between calls. This is a fundamental difference to functions: functions always start their execution at the beginning of the function body, regardless of where they had left in previous calls. They don't have any static or persistent values. There may be more than one yield statement in the code of a generator or the yield statement might be inside the body of a loop. If there is a return statement in the code of a generator, the execution will stop with a StopIteration exception error when this code is executed by the Python interpreter. The word \"generator\" is sometimes ambiguously used to mean both the generator function itself and the objects which are generated by a generator."
   ]
  },
  {
   "cell_type": "markdown",
   "metadata": {},
   "source": [
    "As we have elaborated in the introduction of this chapter, the generators offer a comfortable method to generate iterators, and that's why they are called generators.\n",
    "\n",
    "Method of working:\n",
    "\n",
    "- A generator is called like a function. Its return value is an iterator, i.e. a generator object. The code of the generator will not be executed at this stage.\n",
    "- The iterator can be used by calling the next method. The first time the execution starts like a function, i.e. the first line of code within the body of the iterator. The code is executed until a yield statement is reached.\n",
    "- yield returns the value of the expression, which is following the keyword yield. This is like a function, but Python keeps track of the position of this yield and the state of the local variables is stored for the next call. At the next call, the execution continues with the statement following the yield statement and the variables have the same values as they had in the previous call.\n",
    "- The iterator is finished, if the generator body is completely worked through or if the program flow encounters a return statement without a value.\n",
    "We will illustrate this behaviour in the following example. The generator count creates an iterator which creates a sequence of values by counting from the start value 'firstval' and using 'step' as the increment for counting:"
   ]
  },
  {
   "cell_type": "code",
   "execution_count": 10,
   "metadata": {},
   "outputs": [
    {
     "name": "stdout",
     "output_type": "stream",
     "text": [
      "0, 1, 2, 3, 4, 5, 6, 7, 8, 9, \n",
      "New counter:\n",
      "2.10, 2.40, 2.70, 3.00, 3.30, 3.60, 3.90, 4.20, 4.50, 4.80, "
     ]
    }
   ],
   "source": [
    "def count(firstval=0, step=1):\n",
    "    x = firstval\n",
    "    while True:\n",
    "        yield x\n",
    "        x += step\n",
    "        \n",
    "counter = count() # count will start with 0\n",
    "for i in range(10):\n",
    "    print(next(counter), end=\", \")\n",
    "\n",
    "start_value = 2.1\n",
    "stop_value = 0.3\n",
    "print(\"\\nNew counter:\")\n",
    "counter = count(start_value, stop_value)\n",
    "for i in range(10):\n",
    "    new_value = next(counter)\n",
    "    print(f\"{new_value:2.2f}\", end=\", \")"
   ]
  },
  {
   "cell_type": "code",
   "execution_count": 11,
   "metadata": {},
   "outputs": [
    {
     "name": "stdout",
     "output_type": "stream",
     "text": [
      "0  1  1  2  3  5  8  13  21  34  55  \n"
     ]
    }
   ],
   "source": [
    "def fibonacci():\n",
    "    \"\"\"Generates an infinite sequence of Fibonacci numbers on demand\"\"\"\n",
    "    a, b = 0, 1\n",
    "    while True:\n",
    "        yield a\n",
    "        a, b = b, a + b\n",
    "\n",
    "f = fibonacci()\n",
    "\n",
    "counter = 0\n",
    "for x in f:\n",
    "    print(x, \" \", end=\"\")\n",
    "    counter += 1\n",
    "    if (counter > 10): \n",
    "        break \n",
    "print()"
   ]
  },
  {
   "cell_type": "code",
   "execution_count": 12,
   "metadata": {},
   "outputs": [
    {
     "name": "stdout",
     "output_type": "stream",
     "text": [
      "89  144  233  377  610  987  1597  2584  4181  6765  10946  "
     ]
    }
   ],
   "source": [
    "counter = 0\n",
    "for x in f:\n",
    "    print(x, \" \", end=\"\")\n",
    "    counter += 1\n",
    "    if (counter > 10): \n",
    "        break "
   ]
  }
 ],
 "metadata": {
  "kernelspec": {
   "display_name": "base",
   "language": "python",
   "name": "python3"
  },
  "language_info": {
   "codemirror_mode": {
    "name": "ipython",
    "version": 3
   },
   "file_extension": ".py",
   "mimetype": "text/x-python",
   "name": "python",
   "nbconvert_exporter": "python",
   "pygments_lexer": "ipython3",
   "version": "3.12.4"
  }
 },
 "nbformat": 4,
 "nbformat_minor": 2
}
