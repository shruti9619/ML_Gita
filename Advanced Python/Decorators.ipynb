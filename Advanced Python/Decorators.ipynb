{
 "cells": [
  {
   "cell_type": "markdown",
   "metadata": {},
   "source": [
    "## Decorators\n",
    "\n",
    "The question I kept repeating while going through so many decorator guides and blogs was why do we need them. Basically decorators allow you to write modular code by making it possible to add or wrap functionality to/around existing functions without changing them.\n",
    "OK! but WHY do we need the decorator syntax? Why do we need nested functions to create a decorator? Why can't we just take an existing function, write another one with some extra functionality, and feed the first to the 2nd function to make it do something else?\n",
    "\n",
    "Source: https://stackoverflow.com/questions/52593649/what-is-the-purpose-of-decorators-why-use-them"
   ]
  },
  {
   "cell_type": "markdown",
   "metadata": {},
   "source": [
    "The current method of applying a transformation to a function or method places the actual transformation after the function body. For large functions this separates a key component of the function's behavior from the definition of the rest of the function's external interface. \n",
    "This becomes less readable with longer methods. It also seems less than pythonic to name the function three times for what is conceptually a single declaration. A solution to this problem is to move the transformation of the method closer to the method's own declaration. The intent of the new syntax is to replace\n",
    "\n",
    "```python\n",
    "def foo(cls):\n",
    "    pass \n",
    "foo = synchronized(lock)(foo) \n",
    "foo = classmethod(foo)\n",
    "```\n",
    "\n",
    "with\n",
    "\n",
    "```python\n",
    "@classmethod\n",
    "@synchronized(lock)\n",
    "def foo(cls):\n",
    "    pass\n",
    "```"
   ]
  },
  {
   "cell_type": "markdown",
   "metadata": {},
   "source": [
    "### Python functions are first class objects\n",
    "What it means is that we can assign them to variables, store them in data structures, pass them as arguments to other functions, and also return them as values from other functions."
   ]
  },
  {
   "cell_type": "code",
   "execution_count": 1,
   "metadata": {},
   "outputs": [
    {
     "data": {
      "text/plain": [
       "6"
      ]
     },
     "execution_count": 1,
     "metadata": {},
     "output_type": "execute_result"
    }
   ],
   "source": [
    "def add_two(x):\n",
    "    return x+2\n",
    "\n",
    "# function assigned to a variable and called via the variable name\n",
    "add = add_two\n",
    "add(4)"
   ]
  },
  {
   "cell_type": "code",
   "execution_count": 2,
   "metadata": {},
   "outputs": [
    {
     "data": {
      "text/plain": [
       "6"
      ]
     },
     "execution_count": 2,
     "metadata": {},
     "output_type": "execute_result"
    }
   ],
   "source": [
    "add_two(4)"
   ]
  },
  {
   "cell_type": "markdown",
   "metadata": {},
   "source": [
    "So when a function is mentioned with just its name without `()` it is passed as a reference to the expression or variable and when `()` are added it becomes a call to the function."
   ]
  },
  {
   "cell_type": "markdown",
   "metadata": {},
   "source": [
    "### Inner functions in Python"
   ]
  },
  {
   "cell_type": "code",
   "execution_count": 4,
   "metadata": {},
   "outputs": [
    {
     "name": "stdout",
     "output_type": "stream",
     "text": [
      "This is pre-definition of 'g'\n",
      "This is the function 'f'\n",
      "I am calling 'g' now:\n",
      "Hi, it's me 'g'\n",
      "Thanks for calling me\n"
     ]
    }
   ],
   "source": [
    "def f():\n",
    "    print(\"This is pre-definition of 'g'\")\n",
    "    def g():\n",
    "        print(\"Hi, it's me 'g'\")\n",
    "        print(\"Thanks for calling me\")\n",
    "        \n",
    "    print(\"This is the function 'f'\")\n",
    "    print(\"I am calling 'g' now:\")\n",
    "    g()\n",
    "\n",
    "    \n",
    "f()"
   ]
  },
  {
   "cell_type": "markdown",
   "metadata": {},
   "source": [
    "See how the statements in the function `g` are only executed when g is called and not during the definition of it is made in the function `f`. "
   ]
  },
  {
   "cell_type": "markdown",
   "metadata": {},
   "source": [
    "Below is a case with arguments in the function call and a return statement as well."
   ]
  },
  {
   "cell_type": "code",
   "execution_count": 7,
   "metadata": {},
   "outputs": [
    {
     "data": {
      "text/plain": [
       "'Hi Jane! What a lovely day!'"
      ]
     },
     "execution_count": 7,
     "metadata": {},
     "output_type": "execute_result"
    }
   ],
   "source": [
    "def say_hi(to_whom:str):\n",
    "    def say_lovely_hi_to(name: str):\n",
    "        return name + \"! \"+ \"What a lovely day!\"\n",
    "    \n",
    "    return \"Hi \"+ say_lovely_hi_to(to_whom)\n",
    "\n",
    "say_hi('Jane')\n"
   ]
  }
 ],
 "metadata": {
  "kernelspec": {
   "display_name": "base",
   "language": "python",
   "name": "python3"
  },
  "language_info": {
   "codemirror_mode": {
    "name": "ipython",
    "version": 3
   },
   "file_extension": ".py",
   "mimetype": "text/x-python",
   "name": "python",
   "nbconvert_exporter": "python",
   "pygments_lexer": "ipython3",
   "version": "3.12.4"
  }
 },
 "nbformat": 4,
 "nbformat_minor": 2
}
