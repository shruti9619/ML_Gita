{
 "cells": [
  {
   "cell_type": "markdown",
   "metadata": {},
   "source": [
    "## Decorators\n",
    "\n",
    "The question I kept repeating while going through so many decorator guides and blogs was why do we need them. Basically decorators allow you to write modular code by making it possible to add or wrap functionality to/around existing functions without changing them.\n",
    "OK! but WHY do we need the decorator syntax? Why do we need nested functions to create a decorator? Why can't we just take an existing function, write another one with some extra functionality, and feed the first to the 2nd function to make it do something else?\n",
    "\n",
    "Source: https://stackoverflow.com/questions/52593649/what-is-the-purpose-of-decorators-why-use-them"
   ]
  },
  {
   "cell_type": "markdown",
   "metadata": {},
   "source": [
    "The current method of applying a transformation to a function or method places the actual transformation after the function body. For large functions this separates a key component of the function's behavior from the definition of the rest of the function's external interface. \n",
    "This becomes less readable with longer methods. It also seems less than pythonic to name the function three times for what is conceptually a single declaration. A solution to this problem is to move the transformation of the method closer to the method's own declaration. The intent of the new syntax is to replace\n",
    "\n",
    "```python\n",
    "def foo(cls):\n",
    "    pass \n",
    "foo = synchronized(lock)(foo) \n",
    "foo = classmethod(foo)\n",
    "```\n",
    "\n",
    "with\n",
    "\n",
    "```python\n",
    "@classmethod\n",
    "@synchronized(lock)\n",
    "def foo(cls):\n",
    "    pass\n",
    "```"
   ]
  },
  {
   "cell_type": "markdown",
   "metadata": {},
   "source": [
    "### Python functions are first class objects\n",
    "What it means is that we can assign them to variables, store them in data structures, pass them as arguments to other functions, and also return them as values from other functions."
   ]
  },
  {
   "cell_type": "code",
   "execution_count": 1,
   "metadata": {},
   "outputs": [
    {
     "data": {
      "text/plain": [
       "6"
      ]
     },
     "execution_count": 1,
     "metadata": {},
     "output_type": "execute_result"
    }
   ],
   "source": [
    "def add_two(x):\n",
    "    return x+2\n",
    "\n",
    "# function assigned to a variable and called via the variable name\n",
    "add = add_two\n",
    "add(4)"
   ]
  },
  {
   "cell_type": "code",
   "execution_count": 2,
   "metadata": {},
   "outputs": [
    {
     "data": {
      "text/plain": [
       "6"
      ]
     },
     "execution_count": 2,
     "metadata": {},
     "output_type": "execute_result"
    }
   ],
   "source": [
    "add_two(4)"
   ]
  },
  {
   "cell_type": "markdown",
   "metadata": {},
   "source": [
    "So when a function is mentioned with just its name without `()` it is passed as a reference to the expression or variable and when `()` are added it becomes a call to the function."
   ]
  },
  {
   "cell_type": "markdown",
   "metadata": {},
   "source": [
    "### Inner functions in Python"
   ]
  },
  {
   "cell_type": "code",
   "execution_count": 4,
   "metadata": {},
   "outputs": [
    {
     "name": "stdout",
     "output_type": "stream",
     "text": [
      "This is pre-definition of 'g'\n",
      "This is the function 'f'\n",
      "I am calling 'g' now:\n",
      "Hi, it's me 'g'\n",
      "Thanks for calling me\n"
     ]
    }
   ],
   "source": [
    "def f():\n",
    "    print(\"This is pre-definition of 'g'\")\n",
    "    def g():\n",
    "        print(\"Hi, it's me 'g'\")\n",
    "        print(\"Thanks for calling me\")\n",
    "        \n",
    "    print(\"This is the function 'f'\")\n",
    "    print(\"I am calling 'g' now:\")\n",
    "    g()\n",
    "\n",
    "    \n",
    "f()"
   ]
  },
  {
   "cell_type": "markdown",
   "metadata": {},
   "source": [
    "See how the statements in the function `g` are only executed when g is called and not during the definition of it is made in the function `f`. "
   ]
  },
  {
   "cell_type": "markdown",
   "metadata": {},
   "source": [
    "Below is a case with arguments in the function call and a return statement as well."
   ]
  },
  {
   "cell_type": "code",
   "execution_count": 7,
   "metadata": {},
   "outputs": [
    {
     "data": {
      "text/plain": [
       "'Hi Jane! What a lovely day!'"
      ]
     },
     "execution_count": 7,
     "metadata": {},
     "output_type": "execute_result"
    }
   ],
   "source": [
    "def say_hi(to_whom:str):\n",
    "    def say_lovely_hi_to(name: str):\n",
    "        return name + \"! \"+ \"What a lovely day!\"\n",
    "    \n",
    "    return \"Hi \"+ say_lovely_hi_to(to_whom)\n",
    "\n",
    "say_hi('Jane')\n"
   ]
  },
  {
   "cell_type": "markdown",
   "metadata": {},
   "source": [
    "A useful example of inner function architecture, here's a function that calculates factorial of a number and also checks the mentioned conditions in the start. However the one issue is that since the factorial function is being called recursively, it makes those checks on each call which is not relevant if the number passes those checks right at the first time."
   ]
  },
  {
   "cell_type": "code",
   "execution_count": 8,
   "metadata": {},
   "outputs": [],
   "source": [
    "def factorial(n):\n",
    "    \"\"\" calculates the factorial of n, \n",
    "        n should be an integer and n <= 0 \"\"\"\n",
    "    if type(n) == int and n >=0:\n",
    "        if n == 0:\n",
    "            return 1\n",
    "        else:\n",
    "            return n * factorial(n-1)\n",
    "\n",
    "    else:\n",
    "        raise TypeError(\"n has to be a positive integer or zero\")"
   ]
  },
  {
   "cell_type": "markdown",
   "metadata": {},
   "source": [
    "Here's the inner function way to do it, which makes the check only once and then proceeds with the factorial calculation."
   ]
  },
  {
   "cell_type": "code",
   "execution_count": 10,
   "metadata": {},
   "outputs": [
    {
     "name": "stdout",
     "output_type": "stream",
     "text": [
      "0, 1\n",
      "1, 1\n",
      "8, 40320\n",
      "9.0, 362880.0\n",
      "-2, Should be a positive integer or 0\n",
      "5.3, value is a float but not equivalent to an int\n",
      "5, Value is neither an integer nor a float equivalent to int\n"
     ]
    }
   ],
   "source": [
    "def factorial(n):\n",
    "    \"\"\" calculates the factorial of n, if n is either a non negative\n",
    "    integer or a float number x being equivalent to an integer, like\n",
    "    4.0, 12.0, 8. i.e. no decimals following the decimal point \"\"\"\n",
    "    def inner_factorial(n):\n",
    "        if n == 0:\n",
    "            return 1\n",
    "        else:\n",
    "            return n * inner_factorial(n-1)\n",
    "    if not isinstance(n, (int, float)):\n",
    "        raise ValueError(\"Value is neither an integer nor a float equivalent to int\")\n",
    "    if isinstance(n, (int))  and n < 0:\n",
    "        raise ValueError('Should be a positive integer or 0')\n",
    "    elif isinstance(n, (float)) and not n.is_integer():\n",
    "        raise ValueError('value is a float but not equivalent to an int')\n",
    "    else:\n",
    "        return inner_factorial(n)\n",
    "    \n",
    "\n",
    "values = [0, 1, 8, 9.0, -2, 5.3, \"5\"]\n",
    "for value in values:\n",
    "    try: \n",
    "        print(value, end=\", \")\n",
    "        print(factorial(value))\n",
    "    except ValueError as e:\n",
    "        print(e)"
   ]
  },
  {
   "cell_type": "markdown",
   "metadata": {},
   "source": [
    "### Function as a parameter\n",
    "Now that we know that the functions are first class objects in Python, let's see how that goes"
   ]
  },
  {
   "cell_type": "code",
   "execution_count": 11,
   "metadata": {},
   "outputs": [
    {
     "name": "stdout",
     "output_type": "stream",
     "text": [
      "Hi, it's me 'f'\n",
      "I will call 'func' now\n",
      "Hi, it's me 'g'\n",
      "Thanks for calling me\n"
     ]
    }
   ],
   "source": [
    "def g():\n",
    "    print(\"Hi, it's me 'g'\")\n",
    "    print(\"Thanks for calling me\")\n",
    "    \n",
    "def f(func):\n",
    "    print(\"Hi, it's me 'f'\")\n",
    "    print(\"I will call 'func' now\")\n",
    "    func()\n",
    "          \n",
    "f(g)"
   ]
  },
  {
   "cell_type": "markdown",
   "metadata": {},
   "source": [
    "Here's another one like that"
   ]
  },
  {
   "cell_type": "code",
   "execution_count": 13,
   "metadata": {},
   "outputs": [
    {
     "name": "stdout",
     "output_type": "stream",
     "text": [
      "The function sin was passed to foo\n",
      "0.8414709848078965\n",
      "The function cos was passed to foo\n",
      "0.5403023058681398\n"
     ]
    }
   ],
   "source": [
    "import math\n",
    "\n",
    "def foo(func):\n",
    "    print(\"The function \" + func.__name__ + \" was passed to foo\")\n",
    "    return func(1)\n",
    "\n",
    "print(foo(math.sin))\n",
    "print(foo(math.cos))"
   ]
  },
  {
   "cell_type": "markdown",
   "metadata": {},
   "source": [
    "This one below is a super useful example where the goal is to time the execution of a function passed as an argument."
   ]
  },
  {
   "cell_type": "code",
   "execution_count": 26,
   "metadata": {},
   "outputs": [
    {
     "name": "stdout",
     "output_type": "stream",
     "text": [
      "Finished in 0.0011 secs\n"
     ]
    }
   ],
   "source": [
    "import time\n",
    "def timer(func):\n",
    "    \"\"\"Print the runtime of the function\"\"\"\n",
    "    start_time = time.perf_counter()\n",
    "    value = func()\n",
    "    end_time = time.perf_counter()\n",
    "    run_time = end_time - start_time\n",
    "    print(f\"Finished in {run_time:.4f} secs\")\n",
    "\n",
    "def calc_sin():\n",
    "    for i in range(0,10000):\n",
    "        math.sin(i) \n",
    "\n",
    "timer(calc_sin)"
   ]
  },
  {
   "cell_type": "markdown",
   "metadata": {},
   "source": [
    "## Enter Decorators"
   ]
  },
  {
   "cell_type": "code",
   "execution_count": 12,
   "metadata": {},
   "outputs": [],
   "source": [
    "import time\n",
    "import math\n",
    "\n",
    "def timer_decorator(func):\n",
    "    print(\"Decorator function is called right at the '@' point so that the inner function is returned\")\n",
    "    def actual_timer_function():\n",
    "        \"\"\"Print the runtime of the function\"\"\"\n",
    "        print(\"Now the inner function is called\")\n",
    "        start_time = time.perf_counter()\n",
    "        func()\n",
    "        end_time = time.perf_counter()\n",
    "        run_time = end_time - start_time\n",
    "        print(f\"Finished in {run_time:.4f} secs\")\n",
    "    return actual_timer_function\n",
    "\n",
    "def calc_sin():\n",
    "    for i in range(0,10000):\n",
    "        math.sin(i) \n"
   ]
  },
  {
   "cell_type": "markdown",
   "metadata": {},
   "source": [
    "Instead of writing calc_abc = timer_decorator(calc_sin) we use this other notation."
   ]
  },
  {
   "cell_type": "code",
   "execution_count": 13,
   "metadata": {},
   "outputs": [
    {
     "name": "stdout",
     "output_type": "stream",
     "text": [
      "Decorator function is called right at the '@' point so that the inner function is returned\n"
     ]
    }
   ],
   "source": [
    "calc_abc = timer_decorator(calc_sin)\n"
   ]
  },
  {
   "cell_type": "code",
   "execution_count": 14,
   "metadata": {},
   "outputs": [
    {
     "name": "stdout",
     "output_type": "stream",
     "text": [
      "Now the inner function is called\n",
      "Finished in 0.0011 secs\n"
     ]
    }
   ],
   "source": [
    "calc_abc()"
   ]
  },
  {
   "cell_type": "code",
   "execution_count": 15,
   "metadata": {},
   "outputs": [
    {
     "name": "stdout",
     "output_type": "stream",
     "text": [
      "Decorator function is called right at the '@' point so that the inner function is returned\n",
      "calling the decorated function now (it's the same as passing calc_sin function to timer_decorator to call in the actual_timer_function)\n",
      "Now the inner function is called\n",
      "Finished in 0.0015 secs\n"
     ]
    }
   ],
   "source": [
    "@timer_decorator\n",
    "def calc_sin():\n",
    "    for i in range(0,10000):\n",
    "        math.sin(i) \n",
    "\n",
    "print(\"calling the decorated function now (it's the same as passing calc_sin function to timer_decorator to call in the actual_timer_function)\")\n",
    "calc_sin()"
   ]
  },
  {
   "cell_type": "markdown",
   "metadata": {},
   "source": [
    "### `__name__` feature"
   ]
  },
  {
   "cell_type": "code",
   "execution_count": 16,
   "metadata": {},
   "outputs": [
    {
     "name": "stdout",
     "output_type": "stream",
     "text": [
      "Before calling foo\n",
      "Hi, foo has been called with Hi\n",
      "After calling foo\n"
     ]
    }
   ],
   "source": [
    "def our_decorator(func):\n",
    "    def function_wrapper(x):\n",
    "        print(\"Before calling \" + func.__name__)\n",
    "        func(x)\n",
    "        print(\"After calling \" + func.__name__)\n",
    "    return function_wrapper\n",
    "\n",
    "@our_decorator\n",
    "def foo(x):\n",
    "    print(\"Hi, foo has been called with \" + str(x))\n",
    "\n",
    "foo(\"Hi\")"
   ]
  },
  {
   "cell_type": "code",
   "execution_count": null,
   "metadata": {},
   "outputs": [],
   "source": []
  }
 ],
 "metadata": {
  "kernelspec": {
   "display_name": "base",
   "language": "python",
   "name": "python3"
  },
  "language_info": {
   "codemirror_mode": {
    "name": "ipython",
    "version": 3
   },
   "file_extension": ".py",
   "mimetype": "text/x-python",
   "name": "python",
   "nbconvert_exporter": "python",
   "pygments_lexer": "ipython3",
   "version": "3.12.4"
  }
 },
 "nbformat": 4,
 "nbformat_minor": 2
}
