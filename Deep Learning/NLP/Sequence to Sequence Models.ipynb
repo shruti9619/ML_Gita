{
 "cells": [
  {
   "cell_type": "markdown",
   "metadata": {},
   "source": [
    "Knowing about RNNs and Language Models gives us the right fundamentals we need to now understand Sequence to Sequence models. But since it can be confusing, let's be clear about the differences first."
   ]
  },
  {
   "cell_type": "markdown",
   "metadata": {},
   "source": [
    "\n",
    "\n",
    "### **Key Differences**:\n",
    "\n",
    "- **Input and Output**:\n",
    "  - **RNN Language Model**: Takes a sequence of words and predicts the next word in the sequence.\n",
    "  - **Seq2Seq Model**: Takes a sequence of data and transforms it into another sequence.\n",
    "\n",
    "- **Architecture**:\n",
    "  - **RNN Language Model**: Typically uses a single RNN.\n",
    "  - **Seq2Seq Model**: Uses an encoder-decoder architecture with two RNNs.\n",
    "\n",
    "- **Applications**:\n",
    "  - **RNN Language Model**: Best suited for text generation and language modeling.\n",
    "  - **Seq2Seq Model**: Ideal for translation, summarization, and any task that requires sequence transformation.\n"
   ]
  },
  {
   "cell_type": "markdown",
   "metadata": {},
   "source": [
    "One important point is that even RNN language models can have multiple layers of RNNs within so it's not about how many RNNs are used but about the architecture which makes these two different as Seq2Seq models have a strikingly different architecture called encoder-decoder architecture."
   ]
  },
  {
   "cell_type": "markdown",
   "metadata": {},
   "source": [
    "Why Seq2Seq -> It first become useful for language translation use-cases especially where the input and output length varied because in the existing architecture of RNN LMs the each input would generate an output and it would become a 1-1 count. Later it became possible to introduce attention mechanism and other advanced enhancements into this architecture while there was not much scope in RNN LMs."
   ]
  },
  {
   "cell_type": "markdown",
   "metadata": {},
   "source": []
  }
 ],
 "metadata": {
  "kernelspec": {
   "display_name": "base",
   "language": "python",
   "name": "python3"
  },
  "language_info": {
   "codemirror_mode": {
    "name": "ipython",
    "version": 3
   },
   "file_extension": ".py",
   "mimetype": "text/x-python",
   "name": "python",
   "nbconvert_exporter": "python",
   "pygments_lexer": "ipython3",
   "version": "3.12.4"
  }
 },
 "nbformat": 4,
 "nbformat_minor": 2
}
